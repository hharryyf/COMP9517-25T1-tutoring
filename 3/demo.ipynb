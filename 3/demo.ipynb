{
 "cells": [
  {
   "cell_type": "markdown",
   "metadata": {},
   "source": [
    "## Sklearn Demo"
   ]
  },
  {
   "cell_type": "code",
   "execution_count": 25,
   "metadata": {},
   "outputs": [],
   "source": [
    "import pandas as pd\n",
    "import numpy as np\n",
    "import cv2\n",
    "import matplotlib.pyplot as plt\n",
    "from sklearn.neighbors import KNeighborsClassifier\n",
    "from sklearn.tree import DecisionTreeClassifier\n",
    "from sklearn.linear_model import SGDClassifier\n",
    "from sklearn.model_selection import train_test_split\n",
    "from sklearn.metrics import accuracy_score, recall_score, precision_score, f1_score, confusion_matrix, classification_report"
   ]
  },
  {
   "cell_type": "markdown",
   "metadata": {},
   "source": [
    "### 1. Load the CHINESE MINST Dataset"
   ]
  },
  {
   "cell_type": "markdown",
   "metadata": {},
   "source": [
    "You can download it from https://webcms3.cse.unsw.edu.au/COMP9517/25T1/resources/110646"
   ]
  },
  {
   "cell_type": "code",
   "execution_count": 26,
   "metadata": {},
   "outputs": [
    {
     "name": "stdout",
     "output_type": "stream",
     "text": [
      "(15000, 5)\n"
     ]
    },
    {
     "data": {
      "text/html": [
       "<div>\n",
       "<style scoped>\n",
       "    .dataframe tbody tr th:only-of-type {\n",
       "        vertical-align: middle;\n",
       "    }\n",
       "\n",
       "    .dataframe tbody tr th {\n",
       "        vertical-align: top;\n",
       "    }\n",
       "\n",
       "    .dataframe thead th {\n",
       "        text-align: right;\n",
       "    }\n",
       "</style>\n",
       "<table border=\"1\" class=\"dataframe\">\n",
       "  <thead>\n",
       "    <tr style=\"text-align: right;\">\n",
       "      <th></th>\n",
       "      <th>suite_id</th>\n",
       "      <th>sample_id</th>\n",
       "      <th>code</th>\n",
       "      <th>value</th>\n",
       "      <th>character</th>\n",
       "    </tr>\n",
       "  </thead>\n",
       "  <tbody>\n",
       "    <tr>\n",
       "      <th>0</th>\n",
       "      <td>1</td>\n",
       "      <td>1</td>\n",
       "      <td>10</td>\n",
       "      <td>9</td>\n",
       "      <td>九</td>\n",
       "    </tr>\n",
       "    <tr>\n",
       "      <th>1</th>\n",
       "      <td>1</td>\n",
       "      <td>10</td>\n",
       "      <td>10</td>\n",
       "      <td>9</td>\n",
       "      <td>九</td>\n",
       "    </tr>\n",
       "    <tr>\n",
       "      <th>2</th>\n",
       "      <td>1</td>\n",
       "      <td>2</td>\n",
       "      <td>10</td>\n",
       "      <td>9</td>\n",
       "      <td>九</td>\n",
       "    </tr>\n",
       "    <tr>\n",
       "      <th>3</th>\n",
       "      <td>1</td>\n",
       "      <td>3</td>\n",
       "      <td>10</td>\n",
       "      <td>9</td>\n",
       "      <td>九</td>\n",
       "    </tr>\n",
       "    <tr>\n",
       "      <th>4</th>\n",
       "      <td>1</td>\n",
       "      <td>4</td>\n",
       "      <td>10</td>\n",
       "      <td>9</td>\n",
       "      <td>九</td>\n",
       "    </tr>\n",
       "  </tbody>\n",
       "</table>\n",
       "</div>"
      ],
      "text/plain": [
       "   suite_id  sample_id  code  value character\n",
       "0         1          1    10      9         九\n",
       "1         1         10    10      9         九\n",
       "2         1          2    10      9         九\n",
       "3         1          3    10      9         九\n",
       "4         1          4    10      9         九"
      ]
     },
     "execution_count": 26,
     "metadata": {},
     "output_type": "execute_result"
    }
   ],
   "source": [
    "df = pd.read_csv('Chinese_MINST_Dataset/chinese_mnist.csv')\n",
    "print(df.shape)\n",
    "df.head()"
   ]
  },
  {
   "cell_type": "markdown",
   "metadata": {},
   "source": [
    "To get the image with a specific suite_id, sample_id, and code.\n",
    "\n",
    "Chinese_MINST_Dataset/data/data/input_{suite_id}\\_{sample_id}\\_{code}.jpg | target = value\n",
    "\n",
    "Let's try to get the image with suite_id = 1, sample_id = 1, code = 10"
   ]
  },
  {
   "cell_type": "code",
   "execution_count": 27,
   "metadata": {},
   "outputs": [
    {
     "data": {
      "text/plain": [
       "(64, 64)"
      ]
     },
     "execution_count": 27,
     "metadata": {},
     "output_type": "execute_result"
    },
    {
     "data": {
      "image/png": "[encoded data removed]",
      "text/plain": [
       "<Figure size 640x480 with 1 Axes>"
      ]
     },
     "metadata": {},
     "output_type": "display_data"
    }
   ],
   "source": [
    "img = cv2.imread('Chinese_MINST_Dataset/data/data/input_1_1_10.jpg', -1)\n",
    "plt.imshow(img, cmap='gray')\n",
    "img.shape"
   ]
  },
  {
   "cell_type": "code",
   "execution_count": 28,
   "metadata": {},
   "outputs": [],
   "source": [
    "path_list = []\n",
    "label_list = df['value'].to_list()\n",
    "for i in range(df.shape[0]):\n",
    "    path = df.iloc[i] # get the ith element of the df\n",
    "    img_path = f\"Chinese_MINST_Dataset/data/data/input_{path['suite_id']}_{path['sample_id']}_{path['code']}.jpg\"\n",
    "    path_list.append(img_path)\n",
    "\n",
    "X_train, X_test, y_train, y_test = train_test_split(path_list, label_list, test_size=0.2, random_state=42)"
   ]
  },
  {
   "cell_type": "code",
   "execution_count": 29,
   "metadata": {},
   "outputs": [],
   "source": [
    "def get_image(plist):\n",
    "    X = []\n",
    "    for img_path in plist:\n",
    "        X.append(cv2.imread(img_path, -1).flatten())\n",
    "    return X"
   ]
  },
  {
   "cell_type": "code",
   "execution_count": 30,
   "metadata": {},
   "outputs": [],
   "source": [
    "X_train = get_image(X_train)\n",
    "X_test = get_image(X_test)"
   ]
  },
  {
   "cell_type": "markdown",
   "metadata": {},
   "source": [
    "### 2. Perform Image Classification with Decision Tree"
   ]
  },
  {
   "cell_type": "code",
   "execution_count": 31,
   "metadata": {},
   "outputs": [],
   "source": [
    "clf = DecisionTreeClassifier() # instantiate a classifier\n",
    "clf.fit(X_train, y_train) # fit the classifier, X_train must be 2-d\n",
    "y_pred = clf.predict(X_test) # make predictions"
   ]
  },
  {
   "cell_type": "markdown",
   "metadata": {},
   "source": [
    "### 3. Evaluation metrics"
   ]
  },
  {
   "cell_type": "markdown",
   "metadata": {},
   "source": [
    "Accuracy: |correct| / |total|\n",
    "Precision (correctness): |TP| / (|TP| + |FP|)\n",
    "Recall (sensitivity): |TP| / (|TP| + |FN|) \n",
    "F1 score: the harmonic average of precision and recall\n",
    "Confusion matrix: m[i][j], the expected class is i, m[i][j] many instances are classified as j."
   ]
  },
  {
   "cell_type": "code",
   "execution_count": 32,
   "metadata": {},
   "outputs": [
    {
     "name": "stdout",
     "output_type": "stream",
     "text": [
      "accuracy score: 0.3406666666666667\n",
      "precision: 0.33511495719006906\n",
      "recall: 0.3467268679758752\n",
      "f1 score: 0.3392085842627347\n"
     ]
    },
    {
     "data": {
      "text/plain": [
       "array([[ 91,   0,   0,   6,  16,   3,   6,   5,   1,  11,   1,  20,  12,\n",
       "          8,   6],\n",
       "       [  0, 147,   8,   5,   1,   3,   2,   0,   4,   2,   7,   1,   1,\n",
       "          1,   0],\n",
       "       [  2,  23,  81,  38,   5,   6,   5,   8,  17,   4,   3,   1,   2,\n",
       "          9,   2],\n",
       "       [  1,   9,  28,  61,   4,  13,  15,  12,   8,  12,   3,  11,   8,\n",
       "         11,   2],\n",
       "       [ 15,   2,   8,   3,  42,  18,   7,   9,  12,  13,   4,  14,   5,\n",
       "         16,  26],\n",
       "       [  7,   1,  17,  14,  10,  51,  15,  13,  12,  14,   4,  16,  10,\n",
       "         17,   6],\n",
       "       [  6,   6,   8,  20,  11,   7,  57,  16,  12,  19,  18,   3,   3,\n",
       "         10,   7],\n",
       "       [  3,   2,   4,   8,   7,  20,   9,  45,  18,  21,  17,   9,  12,\n",
       "         19,   7],\n",
       "       [  1,  11,  15,   7,   2,   5,   9,   7,  95,   9,   9,   4,   4,\n",
       "          3,   7],\n",
       "       [ 15,   4,   9,  11,  18,  14,  10,  18,   9,  42,   5,   7,   4,\n",
       "         11,  24],\n",
       "       [  3,   6,   3,   2,   1,   3,  10,   9,   4,   6, 104,   1,  26,\n",
       "          7,   4],\n",
       "       [ 18,   1,   5,  13,  11,  18,  16,  18,   9,  12,   2,  46,  16,\n",
       "         18,   6],\n",
       "       [ 10,   4,  11,  16,   7,  11,  13,   6,   4,   9,  35,  10,  70,\n",
       "         11,   4],\n",
       "       [ 15,   4,   6,  10,  16,  17,  15,  10,   4,  17,  12,  27,  10,\n",
       "         47,   7],\n",
       "       [  6,   1,   8,   5,  16,   8,  21,  21,  15,  17,   6,  10,  10,\n",
       "         11,  43]])"
      ]
     },
     "execution_count": 32,
     "metadata": {},
     "output_type": "execute_result"
    }
   ],
   "source": [
    "print(f'accuracy score: {accuracy_score(y_test, y_pred)}')\n",
    "# what macro is doing is calculate the score for each label and show the unweighted mean\n",
    "print(f'precision: {precision_score(y_test, y_pred, average='macro')}')\n",
    "print(f'recall: {recall_score(y_test, y_pred, average='macro')}')\n",
    "print(f'f1 score: {f1_score(y_test, y_pred, average='macro')}')\n",
    "confusion_matrix(y_true=y_test, y_pred=y_pred)"
   ]
  },
  {
   "cell_type": "code",
   "execution_count": 37,
   "metadata": {},
   "outputs": [
    {
     "name": "stdout",
     "output_type": "stream",
     "text": [
      "              precision    recall  f1-score   support\n",
      "\n",
      "           0       0.47      0.49      0.48       186\n",
      "           1       0.67      0.81      0.73       182\n",
      "           2       0.38      0.39      0.39       206\n",
      "           3       0.28      0.31      0.29       198\n",
      "           4       0.25      0.22      0.23       194\n",
      "           5       0.26      0.25      0.25       207\n",
      "           6       0.27      0.28      0.28       203\n",
      "           7       0.23      0.22      0.23       201\n",
      "           8       0.42      0.51      0.46       188\n",
      "           9       0.20      0.21      0.21       201\n",
      "          10       0.45      0.55      0.50       189\n",
      "         100       0.26      0.22      0.24       209\n",
      "        1000       0.36      0.32      0.34       221\n",
      "       10000       0.24      0.22      0.23       217\n",
      "   100000000       0.28      0.22      0.25       198\n",
      "\n",
      "    accuracy                           0.34      3000\n",
      "   macro avg       0.34      0.35      0.34      3000\n",
      "weighted avg       0.33      0.34      0.33      3000\n",
      "\n"
     ]
    }
   ],
   "source": [
    "print(classification_report(y_test, y_pred))"
   ]
  }
 ],
 "metadata": {
  "kernelspec": {
   "display_name": "Python 3",
   "language": "python",
   "name": "python3"
  },
  "language_info": {
   "codemirror_mode": {
    "name": "ipython",
    "version": 3
   },
   "file_extension": ".py",
   "mimetype": "text/x-python",
   "name": "python",
   "nbconvert_exporter": "python",
   "pygments_lexer": "ipython3",
   "version": "3.12.3"
  }
 },
 "nbformat": 4,
 "nbformat_minor": 2
}
